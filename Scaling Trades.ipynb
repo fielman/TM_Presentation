{
 "cells": [
  {
   "cell_type": "markdown",
   "id": "7a4d3992",
   "metadata": {},
   "source": [
    "# Scaling Portfolio Trades\n",
    "Define portfolio holdings, share prices and index weights"
   ]
  },
  {
   "cell_type": "code",
   "execution_count": 15,
   "id": "64c91b78",
   "metadata": {},
   "outputs": [],
   "source": [
    "portfolio = {\n",
    "    \"AGL\": [9570,584.19],\n",
    "    \"GFI\": [12207,240.2],\n",
    "    \"ANG\": [5817,416.71],\n",
    "    \"IMP\": [11301,171.03],\n",
    "    \"SOL\": [7752,247],\n",
    "    \"BHG\": [2835,547.95],\n",
    "    \"SSW\": [38940,37.84],\n",
    "    \"GLN\": [12300, 103.49],\n",
    "    \"AMS\": [240,1005],\n",
    "    \"NPH\": [751,151.33]}\n",
    "\n",
    "index_weights = {\n",
    "    \"AGL\": 0.2875,\n",
    "    \"GFI\": 0.1510,\n",
    "    \"ANG\": 0.1247,\n",
    "    \"IMP\": 0.0995,\n",
    "    \"SOL\": 0.0985,\n",
    "    \"BHG\": 0.0798,\n",
    "    \"SSW\": 0.0757,\n",
    "    \"GLN\": 0.0654,\n",
    "    \"AMS\": 0.0123,\n",
    "    \"NPH\": 0.0056}"
   ]
  },
  {
   "cell_type": "markdown",
   "id": "1ba38c55",
   "metadata": {},
   "source": [
    "Determine the values to trade for each share to get to index"
   ]
  },
  {
   "cell_type": "code",
   "execution_count": 16,
   "id": "136f3e47",
   "metadata": {},
   "outputs": [
    {
     "data": {
      "text/plain": [
       "{'AGL': -315337.94950000104,\n",
       " 'GFI': -161410.3985199998,\n",
       " 'ANG': -135871.85884399945,\n",
       " 'IMP': -107076.62173999986,\n",
       " 'SOL': -107359.6712199999,\n",
       " 'BHG': -89181.70749600022,\n",
       " 'SSW': -84464.28336400003,\n",
       " 'GLN': -72897.20200799988,\n",
       " 'AMS': -15506.322396000003,\n",
       " 'NPH': -10893.984912000014}"
      ]
     },
     "execution_count": 16,
     "metadata": {},
     "output_type": "execute_result"
    }
   ],
   "source": [
    "def portfolio_value(portfolio):\n",
    "    return sum(map(lambda x: x[0] * x[1],portfolio.values()))\n",
    "    \n",
    "\n",
    "def trade_to_index(portfolio, index_weights, cash_flow):\n",
    "    trade_values = index_weights.copy()\n",
    "    port_val = portfolio_value(portfolio) + cash_flow\n",
    "    for share_code in index_weights:\n",
    "        trade_values[share_code] = port_val * index_weights[share_code] - portfolio[share_code][0]*portfolio[share_code][1]\n",
    "    return trade_values\n",
    "\n",
    "trade_to_index(portfolio, index_weights, -1100000)    "
   ]
  },
  {
   "cell_type": "markdown",
   "id": "c36ef720",
   "metadata": {},
   "source": [
    "Scale the values so that it is either 0 or above minimum trading size"
   ]
  },
  {
   "cell_type": "code",
   "execution_count": 17,
   "id": "fe56d432",
   "metadata": {},
   "outputs": [
    {
     "name": "stdout",
     "output_type": "stream",
     "text": [
      "Redistribute:  -1400.3073080000177\n"
     ]
    },
    {
     "data": {
      "text/plain": [
       "{'AGL': -315512.98791350104,\n",
       " 'GFI': -161585.43693349982,\n",
       " 'ANG': -136046.89725749946,\n",
       " 'IMP': -107251.66015349986,\n",
       " 'SOL': -107534.70963349991,\n",
       " 'BHG': -89356.74590950023,\n",
       " 'SSW': -84639.32177750004,\n",
       " 'GLN': -73072.24042149988,\n",
       " 'AMS': -25000,\n",
       " 'NPH': 0}"
      ]
     },
     "execution_count": 17,
     "metadata": {},
     "output_type": "execute_result"
    }
   ],
   "source": [
    "def scale_values(trade_values, cash_flow, min_trade_size):\n",
    "    new_trades = trade_values.copy()\n",
    "    count = 0\n",
    "    redistribute = 0\n",
    "    for code in trade_values:\n",
    "        \n",
    "        if abs(trade_values[code]) < min_trade_size:\n",
    "            \n",
    "            if abs(trade_values[code] * 2) > min_trade_size:\n",
    "                \n",
    "                if trade_values[code] < 0:\n",
    "                    new_trades[code] = -min_trade_size\n",
    "                    redistribute = redistribute + trade_values[code] + min_trade_size\n",
    "                else:\n",
    "                    new_trades[code] = min_trade_size\n",
    "                    redistribute = redistribute + trade_values[code] - min_trade_size\n",
    "            else:\n",
    "                new_trades[code] = 0\n",
    "                redistribute = redistribute + trade_values[code]\n",
    "        else:\n",
    "            count = count + 1\n",
    "    \n",
    "    print(\"Redistribute: \",redistribute)\n",
    "    \n",
    "    for code in trade_values:\n",
    "        \n",
    "        if new_trades[code] == trade_values[code]:\n",
    "            new_trades[code] = trade_values[code] + redistribute / count\n",
    "            \n",
    "    return new_trades\n",
    "\n",
    "\n",
    "trade_values = trade_to_index(portfolio, index_weights, -1100000)\n",
    "scale_values(trade_values, -1100000, 25000)\n",
    "             \n",
    "    \n",
    "                "
   ]
  },
  {
   "cell_type": "code",
   "execution_count": 18,
   "id": "37b976ab",
   "metadata": {},
   "outputs": [],
   "source": [
    "def cash_from_trade(portfolio, trades):\n",
    "    \n",
    "    cash = 0\n",
    "    \n",
    "    for code in trades:\n",
    "        cash = cash + portfolio[code][1] * trades[code]\n",
    "    \n",
    "    print(\"Cash generated by trades: \",-cash)\n",
    "    \n",
    "    return cash\n",
    "        "
   ]
  },
  {
   "cell_type": "markdown",
   "id": "a8bff158",
   "metadata": {},
   "source": [
    "Function that print each share's deviationand check tolerance level"
   ]
  },
  {
   "cell_type": "code",
   "execution_count": 19,
   "id": "9264c120",
   "metadata": {},
   "outputs": [],
   "source": [
    "def check_tolerance(portfolio, index_weights, trade_shares, tolerance):\n",
    "    new_port = portfolio.copy()\n",
    "    for code in trade_shares:\n",
    "        new_port[code][0] = portfolio[code][0] + trade_shares[code]\n",
    "    \n",
    "    port_val = portfolio_value(new_port)\n",
    "    print(\"CODE PRT_W IDX_W DIFF\")\n",
    "    for code in new_port:\n",
    "        pweight = new_port[code][0] * new_port[code][1] / port_val\n",
    "        print(code,round(pweight,4),index_weights[code],round(pweight - index_weights[code],4))\n",
    "        if abs(pweight - index_weights[code]) > tolerance:\n",
    "            print(\"Tolerance exceeded for\",code,\": Difference from index: \",round(pweight - index_weights[code],3),\". Lower minimum trade value or increase tolerance.\")\n",
    "            return False\n",
    "    print(\"Portfolio within tolerance.\")\n",
    "    \n",
    "    return True\n",
    "    \n",
    "        "
   ]
  },
  {
   "cell_type": "markdown",
   "id": "650844a6",
   "metadata": {},
   "source": [
    "Finally determine number of (scaled) shares to trade after a tolerance check"
   ]
  },
  {
   "cell_type": "code",
   "execution_count": 20,
   "id": "a57d1720",
   "metadata": {},
   "outputs": [
    {
     "name": "stdout",
     "output_type": "stream",
     "text": [
      "Redistribute:  -1400.3073080000177\n",
      "CODE PRT_W IDX_W DIFF\n",
      "AGL 0.2875 0.2875 -0.0\n",
      "GFI 0.151 0.151 0.0\n",
      "ANG 0.1247 0.1247 -0.0\n",
      "IMP 0.0995 0.0995 -0.0\n",
      "SOL 0.0985 0.0985 -0.0\n",
      "BHG 0.0798 0.0798 -0.0\n",
      "SSW 0.0757 0.0757 -0.0\n",
      "GLN 0.0654 0.0654 -0.0\n",
      "AMS 0.0118 0.0123 -0.0005\n",
      "NPH 0.0062 0.0056 0.0006\n",
      "Portfolio within tolerance.\n",
      "Cash generated by trades:  1101868.71\n"
     ]
    },
    {
     "data": {
      "text/plain": [
       "{'AGL': -541.0,\n",
       " 'GFI': -673.0,\n",
       " 'ANG': -327.0,\n",
       " 'IMP': -628.0,\n",
       " 'SOL': -436.0,\n",
       " 'BHG': -164.0,\n",
       " 'SSW': -2237.0,\n",
       " 'GLN': -707.0,\n",
       " 'AMS': -25,\n",
       " 'NPH': 0.0}"
      ]
     },
     "execution_count": 20,
     "metadata": {},
     "output_type": "execute_result"
    }
   ],
   "source": [
    "def scale_trades(portfolio, index_weights, cash_flow, min_trade_size, tolerance):\n",
    "    \n",
    "    trade_values = trade_to_index(portfolio, index_weights, cash_flow)\n",
    "    scaling_values = scale_values(trade_values, cash_flow, min_trade_size)\n",
    "    trade_shares = dict.fromkeys(trade_values.keys(), 0)\n",
    "    \n",
    "    for code in trade_shares:\n",
    "        trade_shares[code] = scaling_values[code] // portfolio[code][1]\n",
    "    \n",
    "    # check if new portfolio is within tolerance and return shares to be traded if so\n",
    "    \n",
    "    if check_tolerance(portfolio, index_weights, trade_shares, tolerance):\n",
    "        cash_from_trade(portfolio, trade_shares)\n",
    "        return trade_shares    \n",
    "    \n",
    "\n",
    "scale_trades(portfolio, index_weights, -1100000, 25000, 0.001)"
   ]
  },
  {
   "cell_type": "code",
   "execution_count": null,
   "id": "94368ae0",
   "metadata": {},
   "outputs": [],
   "source": []
  }
 ],
 "metadata": {
  "kernelspec": {
   "display_name": "Python 3",
   "language": "python",
   "name": "python3"
  },
  "language_info": {
   "codemirror_mode": {
    "name": "ipython",
    "version": 3
   },
   "file_extension": ".py",
   "mimetype": "text/x-python",
   "name": "python",
   "nbconvert_exporter": "python",
   "pygments_lexer": "ipython3",
   "version": "3.10.9"
  }
 },
 "nbformat": 4,
 "nbformat_minor": 5
}
